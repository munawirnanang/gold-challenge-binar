{
 "cells": [
  {
   "cell_type": "code",
   "execution_count": 1,
   "id": "ab2076f1",
   "metadata": {},
   "outputs": [],
   "source": [
    "import matplotlib.pyplot as plt\n",
    "import seaborn as sns\n",
    "import pandas as pd\n",
    "import numpy as np\n",
    "import re\n",
    "\n",
    "import sqlite3"
   ]
  },
  {
   "cell_type": "code",
   "execution_count": 8,
   "id": "d90402e3",
   "metadata": {},
   "outputs": [
    {
     "data": {
      "text/html": [
       "<div>\n",
       "<style scoped>\n",
       "    .dataframe tbody tr th:only-of-type {\n",
       "        vertical-align: middle;\n",
       "    }\n",
       "\n",
       "    .dataframe tbody tr th {\n",
       "        vertical-align: top;\n",
       "    }\n",
       "\n",
       "    .dataframe thead th {\n",
       "        text-align: right;\n",
       "    }\n",
       "</style>\n",
       "<table border=\"1\" class=\"dataframe\">\n",
       "  <thead>\n",
       "    <tr style=\"text-align: right;\">\n",
       "      <th></th>\n",
       "      <th>id</th>\n",
       "      <th>old_text</th>\n",
       "      <th>censored_text</th>\n",
       "    </tr>\n",
       "  </thead>\n",
       "  <tbody>\n",
       "    <tr>\n",
       "      <th>0</th>\n",
       "      <td>2</td>\n",
       "      <td>old text 2</td>\n",
       "      <td>censored_text 2</td>\n",
       "    </tr>\n",
       "    <tr>\n",
       "      <th>1</th>\n",
       "      <td>3</td>\n",
       "      <td>ehh emang tai lu anjing, bego kok di pelihara</td>\n",
       "      <td>ehh emang ***SENSOR*** lu ***SENSOR***, ***SEN...</td>\n",
       "    </tr>\n",
       "    <tr>\n",
       "      <th>2</th>\n",
       "      <td>4</td>\n",
       "      <td>dasar goblok anjing emang ga tau diutung</td>\n",
       "      <td>dasar ***SENSOR*** ***SENSOR*** emang ga tau d...</td>\n",
       "    </tr>\n",
       "    <tr>\n",
       "      <th>3</th>\n",
       "      <td>5</td>\n",
       "      <td>&lt;USERNAME&gt; TOLOL!! Gak ada hubungan nya kegug...</td>\n",
       "      <td>&lt;username&gt; ***SENSOR***!! gak ada hubungan ny...</td>\n",
       "    </tr>\n",
       "    <tr>\n",
       "      <th>4</th>\n",
       "      <td>6</td>\n",
       "      <td>Geblek lo tata...cowo bgt dibela2in balikan. A...</td>\n",
       "      <td>***SENSOR*** lo tata...cowo bgt dibela2in bali...</td>\n",
       "    </tr>\n",
       "    <tr>\n",
       "      <th>5</th>\n",
       "      <td>7</td>\n",
       "      <td>Kmrn termewek2 skr lengket lg duhhh kok labil ...</td>\n",
       "      <td>kmrn termewek2 skr lengket lg duhhh kok labil ...</td>\n",
       "    </tr>\n",
       "    <tr>\n",
       "      <th>6</th>\n",
       "      <td>8</td>\n",
       "      <td>Intinya kalau kesel dengan ATT nya, gausah ke ...</td>\n",
       "      <td>intinya kalau kesel dengan att nya, gausah ke ...</td>\n",
       "    </tr>\n",
       "    <tr>\n",
       "      <th>7</th>\n",
       "      <td>9</td>\n",
       "      <td>hadewwwww permpuan itu lg!!!!sakit jiwa,knp ha...</td>\n",
       "      <td>hadewwwww permpuan itu lg!!!!sakit jiwa,knp ha...</td>\n",
       "    </tr>\n",
       "  </tbody>\n",
       "</table>\n",
       "</div>"
      ],
      "text/plain": [
       "   id                                           old_text  \\\n",
       "0   2                                         old text 2   \n",
       "1   3      ehh emang tai lu anjing, bego kok di pelihara   \n",
       "2   4           dasar goblok anjing emang ga tau diutung   \n",
       "3   5   <USERNAME> TOLOL!! Gak ada hubungan nya kegug...   \n",
       "4   6  Geblek lo tata...cowo bgt dibela2in balikan. A...   \n",
       "5   7  Kmrn termewek2 skr lengket lg duhhh kok labil ...   \n",
       "6   8  Intinya kalau kesel dengan ATT nya, gausah ke ...   \n",
       "7   9  hadewwwww permpuan itu lg!!!!sakit jiwa,knp ha...   \n",
       "\n",
       "                                       censored_text  \n",
       "0                                    censored_text 2  \n",
       "1  ehh emang ***SENSOR*** lu ***SENSOR***, ***SEN...  \n",
       "2  dasar ***SENSOR*** ***SENSOR*** emang ga tau d...  \n",
       "3   <username> ***SENSOR***!! gak ada hubungan ny...  \n",
       "4  ***SENSOR*** lo tata...cowo bgt dibela2in bali...  \n",
       "5  kmrn termewek2 skr lengket lg duhhh kok labil ...  \n",
       "6  intinya kalau kesel dengan att nya, gausah ke ...  \n",
       "7  hadewwwww permpuan itu lg!!!!sakit jiwa,knp ha...  "
      ]
     },
     "execution_count": 8,
     "metadata": {},
     "output_type": "execute_result"
    }
   ],
   "source": [
    "# koneksi ke database dengan nama sql\n",
    "conn = sqlite3.connect('sql.db')\n",
    "\n",
    "# query untuk mengambil seluruh data di table_tweet\n",
    "df = pd.read_sql_query('SELECT * FROM table_tweet', conn)\n",
    "\n",
    "conn.commit()\n",
    "# tutup koneksi\n",
    "conn.close()\n",
    "\n",
    "# masukan kalimat abusive\n",
    "dict_text = df.to_dict()\n",
    "# masukan ke dalam dataframe\n",
    "df1 = pd.DataFrame.from_dict(dict_text)"
   ]
  },
  {
   "cell_type": "code",
   "execution_count": 12,
   "id": "ae677cd9",
   "metadata": {},
   "outputs": [
    {
     "data": {
      "text/html": [
       "<div>\n",
       "<style scoped>\n",
       "    .dataframe tbody tr th:only-of-type {\n",
       "        vertical-align: middle;\n",
       "    }\n",
       "\n",
       "    .dataframe tbody tr th {\n",
       "        vertical-align: top;\n",
       "    }\n",
       "\n",
       "    .dataframe thead th {\n",
       "        text-align: right;\n",
       "    }\n",
       "</style>\n",
       "<table border=\"1\" class=\"dataframe\">\n",
       "  <thead>\n",
       "    <tr style=\"text-align: right;\">\n",
       "      <th></th>\n",
       "      <th>id</th>\n",
       "      <th>old_text</th>\n",
       "      <th>censored_text</th>\n",
       "    </tr>\n",
       "  </thead>\n",
       "  <tbody>\n",
       "    <tr>\n",
       "      <th>0</th>\n",
       "      <td>2</td>\n",
       "      <td>old text 2</td>\n",
       "      <td>censored_text 2</td>\n",
       "    </tr>\n",
       "    <tr>\n",
       "      <th>1</th>\n",
       "      <td>3</td>\n",
       "      <td>ehh emang tai lu anjing, bego kok di pelihara</td>\n",
       "      <td>ehh emang ***SENSOR*** lu ***SENSOR***, ***SEN...</td>\n",
       "    </tr>\n",
       "    <tr>\n",
       "      <th>2</th>\n",
       "      <td>4</td>\n",
       "      <td>dasar goblok anjing emang ga tau diutung</td>\n",
       "      <td>dasar ***SENSOR*** ***SENSOR*** emang ga tau d...</td>\n",
       "    </tr>\n",
       "    <tr>\n",
       "      <th>3</th>\n",
       "      <td>5</td>\n",
       "      <td>&lt;USERNAME&gt; TOLOL!! Gak ada hubungan nya kegug...</td>\n",
       "      <td>&lt;username&gt; ***SENSOR***!! gak ada hubungan ny...</td>\n",
       "    </tr>\n",
       "    <tr>\n",
       "      <th>4</th>\n",
       "      <td>6</td>\n",
       "      <td>Geblek lo tata...cowo bgt dibela2in balikan. A...</td>\n",
       "      <td>***SENSOR*** lo tata...cowo bgt dibela2in bali...</td>\n",
       "    </tr>\n",
       "  </tbody>\n",
       "</table>\n",
       "</div>"
      ],
      "text/plain": [
       "   id                                           old_text  \\\n",
       "0   2                                         old text 2   \n",
       "1   3      ehh emang tai lu anjing, bego kok di pelihara   \n",
       "2   4           dasar goblok anjing emang ga tau diutung   \n",
       "3   5   <USERNAME> TOLOL!! Gak ada hubungan nya kegug...   \n",
       "4   6  Geblek lo tata...cowo bgt dibela2in balikan. A...   \n",
       "\n",
       "                                       censored_text  \n",
       "0                                    censored_text 2  \n",
       "1  ehh emang ***SENSOR*** lu ***SENSOR***, ***SEN...  \n",
       "2  dasar ***SENSOR*** ***SENSOR*** emang ga tau d...  \n",
       "3   <username> ***SENSOR***!! gak ada hubungan ny...  \n",
       "4  ***SENSOR*** lo tata...cowo bgt dibela2in bali...  "
      ]
     },
     "execution_count": 12,
     "metadata": {},
     "output_type": "execute_result"
    }
   ],
   "source": [
    "# tampilkan 5 data teratas\n",
    "df1.head(5)"
   ]
  },
  {
   "cell_type": "code",
   "execution_count": 13,
   "id": "08013f83",
   "metadata": {},
   "outputs": [
    {
     "data": {
      "text/plain": [
       "(8, 3)"
      ]
     },
     "execution_count": 13,
     "metadata": {},
     "output_type": "execute_result"
    }
   ],
   "source": [
    "# mengecek total data\n",
    "df1.shape"
   ]
  },
  {
   "cell_type": "code",
   "execution_count": 14,
   "id": "6bbafb19",
   "metadata": {},
   "outputs": [
    {
     "data": {
      "text/plain": [
       "0"
      ]
     },
     "execution_count": 14,
     "metadata": {},
     "output_type": "execute_result"
    }
   ],
   "source": [
    "# mengecek duplikasi\n",
    "df1.duplicated().sum()"
   ]
  },
  {
   "cell_type": "code",
   "execution_count": 15,
   "id": "8a71b8a2",
   "metadata": {},
   "outputs": [
    {
     "data": {
      "text/plain": [
       "0"
      ]
     },
     "execution_count": 15,
     "metadata": {},
     "output_type": "execute_result"
    }
   ],
   "source": [
    "# mengecek duplikasi di kolom old_text\n",
    "df1['old_text'].duplicated().sum()"
   ]
  },
  {
   "cell_type": "code",
   "execution_count": 16,
   "id": "404a2f81",
   "metadata": {},
   "outputs": [
    {
     "data": {
      "text/plain": [
       "0"
      ]
     },
     "execution_count": 16,
     "metadata": {},
     "output_type": "execute_result"
    }
   ],
   "source": [
    "# mengecek duplikasi di kolom censored_text\n",
    "df1['censored_text'].duplicated().sum()"
   ]
  },
  {
   "cell_type": "code",
   "execution_count": 17,
   "id": "3ab356cb",
   "metadata": {},
   "outputs": [],
   "source": [
    "# menghilangkan data duplikasi\n",
    "df1 = df.drop_duplicates()"
   ]
  },
  {
   "cell_type": "code",
   "execution_count": 19,
   "id": "be110bf9",
   "metadata": {},
   "outputs": [
    {
     "data": {
      "text/plain": [
       "id               0\n",
       "old_text         0\n",
       "censored_text    0\n",
       "dtype: int64"
      ]
     },
     "execution_count": 19,
     "metadata": {},
     "output_type": "execute_result"
    }
   ],
   "source": [
    "# mengecek missing value\n",
    "df1.isna().sum()"
   ]
  },
  {
   "cell_type": "code",
   "execution_count": 20,
   "id": "c143b5bf",
   "metadata": {},
   "outputs": [
    {
     "data": {
      "text/plain": [
       "id               0.0\n",
       "old_text         0.0\n",
       "censored_text    0.0\n",
       "dtype: float64"
      ]
     },
     "execution_count": 20,
     "metadata": {},
     "output_type": "execute_result"
    }
   ],
   "source": [
    "# mengecek persentase missing value\n",
    "df1.isna().sum()/df1.shape[0]"
   ]
  },
  {
   "cell_type": "code",
   "execution_count": 22,
   "id": "8ef3c977",
   "metadata": {},
   "outputs": [],
   "source": [
    "# tambahkan kolom total_word pada dataframe untuk melihat panjang kata\n",
    "df1['total_word_old_text'] = df1.old_text.apply(lambda sent: len(sent.split()))"
   ]
  },
  {
   "cell_type": "code",
   "execution_count": 23,
   "id": "e5e93706",
   "metadata": {},
   "outputs": [
    {
     "data": {
      "text/html": [
       "<div>\n",
       "<style scoped>\n",
       "    .dataframe tbody tr th:only-of-type {\n",
       "        vertical-align: middle;\n",
       "    }\n",
       "\n",
       "    .dataframe tbody tr th {\n",
       "        vertical-align: top;\n",
       "    }\n",
       "\n",
       "    .dataframe thead th {\n",
       "        text-align: right;\n",
       "    }\n",
       "</style>\n",
       "<table border=\"1\" class=\"dataframe\">\n",
       "  <thead>\n",
       "    <tr style=\"text-align: right;\">\n",
       "      <th></th>\n",
       "      <th>id</th>\n",
       "      <th>old_text</th>\n",
       "      <th>censored_text</th>\n",
       "      <th>total_word_old_text</th>\n",
       "    </tr>\n",
       "  </thead>\n",
       "  <tbody>\n",
       "    <tr>\n",
       "      <th>0</th>\n",
       "      <td>2</td>\n",
       "      <td>old text 2</td>\n",
       "      <td>censored_text 2</td>\n",
       "      <td>3</td>\n",
       "    </tr>\n",
       "    <tr>\n",
       "      <th>1</th>\n",
       "      <td>3</td>\n",
       "      <td>ehh emang tai lu anjing, bego kok di pelihara</td>\n",
       "      <td>ehh emang ***SENSOR*** lu ***SENSOR***, ***SEN...</td>\n",
       "      <td>9</td>\n",
       "    </tr>\n",
       "    <tr>\n",
       "      <th>2</th>\n",
       "      <td>4</td>\n",
       "      <td>dasar goblok anjing emang ga tau diutung</td>\n",
       "      <td>dasar ***SENSOR*** ***SENSOR*** emang ga tau d...</td>\n",
       "      <td>7</td>\n",
       "    </tr>\n",
       "    <tr>\n",
       "      <th>3</th>\n",
       "      <td>5</td>\n",
       "      <td>&lt;USERNAME&gt; TOLOL!! Gak ada hubungan nya kegug...</td>\n",
       "      <td>&lt;username&gt; ***SENSOR***!! gak ada hubungan ny...</td>\n",
       "      <td>35</td>\n",
       "    </tr>\n",
       "    <tr>\n",
       "      <th>4</th>\n",
       "      <td>6</td>\n",
       "      <td>Geblek lo tata...cowo bgt dibela2in balikan. A...</td>\n",
       "      <td>***SENSOR*** lo tata...cowo bgt dibela2in bali...</td>\n",
       "      <td>17</td>\n",
       "    </tr>\n",
       "  </tbody>\n",
       "</table>\n",
       "</div>"
      ],
      "text/plain": [
       "   id                                           old_text  \\\n",
       "0   2                                         old text 2   \n",
       "1   3      ehh emang tai lu anjing, bego kok di pelihara   \n",
       "2   4           dasar goblok anjing emang ga tau diutung   \n",
       "3   5   <USERNAME> TOLOL!! Gak ada hubungan nya kegug...   \n",
       "4   6  Geblek lo tata...cowo bgt dibela2in balikan. A...   \n",
       "\n",
       "                                       censored_text  total_word_old_text  \n",
       "0                                    censored_text 2                    3  \n",
       "1  ehh emang ***SENSOR*** lu ***SENSOR***, ***SEN...                    9  \n",
       "2  dasar ***SENSOR*** ***SENSOR*** emang ga tau d...                    7  \n",
       "3   <username> ***SENSOR***!! gak ada hubungan ny...                   35  \n",
       "4  ***SENSOR*** lo tata...cowo bgt dibela2in bali...                   17  "
      ]
     },
     "execution_count": 23,
     "metadata": {},
     "output_type": "execute_result"
    }
   ],
   "source": [
    "# tampilkan 5 data teratas\n",
    "df1.head()"
   ]
  },
  {
   "cell_type": "code",
   "execution_count": 24,
   "id": "babdab77",
   "metadata": {},
   "outputs": [],
   "source": [
    "# tambahkan kolom total_word pada dataframe untuk melihat panjang kata\n",
    "df1['total_word_censored_text'] = df1.censored_text.apply(lambda sent: len(sent.split()))"
   ]
  },
  {
   "cell_type": "code",
   "execution_count": 25,
   "id": "bf779748",
   "metadata": {},
   "outputs": [
    {
     "data": {
      "text/html": [
       "<div>\n",
       "<style scoped>\n",
       "    .dataframe tbody tr th:only-of-type {\n",
       "        vertical-align: middle;\n",
       "    }\n",
       "\n",
       "    .dataframe tbody tr th {\n",
       "        vertical-align: top;\n",
       "    }\n",
       "\n",
       "    .dataframe thead th {\n",
       "        text-align: right;\n",
       "    }\n",
       "</style>\n",
       "<table border=\"1\" class=\"dataframe\">\n",
       "  <thead>\n",
       "    <tr style=\"text-align: right;\">\n",
       "      <th></th>\n",
       "      <th>id</th>\n",
       "      <th>old_text</th>\n",
       "      <th>censored_text</th>\n",
       "      <th>total_word_old_text</th>\n",
       "      <th>total_word_censored_text</th>\n",
       "    </tr>\n",
       "  </thead>\n",
       "  <tbody>\n",
       "    <tr>\n",
       "      <th>0</th>\n",
       "      <td>2</td>\n",
       "      <td>old text 2</td>\n",
       "      <td>censored_text 2</td>\n",
       "      <td>3</td>\n",
       "      <td>2</td>\n",
       "    </tr>\n",
       "    <tr>\n",
       "      <th>1</th>\n",
       "      <td>3</td>\n",
       "      <td>ehh emang tai lu anjing, bego kok di pelihara</td>\n",
       "      <td>ehh emang ***SENSOR*** lu ***SENSOR***, ***SEN...</td>\n",
       "      <td>9</td>\n",
       "      <td>9</td>\n",
       "    </tr>\n",
       "    <tr>\n",
       "      <th>2</th>\n",
       "      <td>4</td>\n",
       "      <td>dasar goblok anjing emang ga tau diutung</td>\n",
       "      <td>dasar ***SENSOR*** ***SENSOR*** emang ga tau d...</td>\n",
       "      <td>7</td>\n",
       "      <td>7</td>\n",
       "    </tr>\n",
       "    <tr>\n",
       "      <th>3</th>\n",
       "      <td>5</td>\n",
       "      <td>&lt;USERNAME&gt; TOLOL!! Gak ada hubungan nya kegug...</td>\n",
       "      <td>&lt;username&gt; ***SENSOR***!! gak ada hubungan ny...</td>\n",
       "      <td>35</td>\n",
       "      <td>35</td>\n",
       "    </tr>\n",
       "    <tr>\n",
       "      <th>4</th>\n",
       "      <td>6</td>\n",
       "      <td>Geblek lo tata...cowo bgt dibela2in balikan. A...</td>\n",
       "      <td>***SENSOR*** lo tata...cowo bgt dibela2in bali...</td>\n",
       "      <td>17</td>\n",
       "      <td>17</td>\n",
       "    </tr>\n",
       "  </tbody>\n",
       "</table>\n",
       "</div>"
      ],
      "text/plain": [
       "   id                                           old_text  \\\n",
       "0   2                                         old text 2   \n",
       "1   3      ehh emang tai lu anjing, bego kok di pelihara   \n",
       "2   4           dasar goblok anjing emang ga tau diutung   \n",
       "3   5   <USERNAME> TOLOL!! Gak ada hubungan nya kegug...   \n",
       "4   6  Geblek lo tata...cowo bgt dibela2in balikan. A...   \n",
       "\n",
       "                                       censored_text  total_word_old_text  \\\n",
       "0                                    censored_text 2                    3   \n",
       "1  ehh emang ***SENSOR*** lu ***SENSOR***, ***SEN...                    9   \n",
       "2  dasar ***SENSOR*** ***SENSOR*** emang ga tau d...                    7   \n",
       "3   <username> ***SENSOR***!! gak ada hubungan ny...                   35   \n",
       "4  ***SENSOR*** lo tata...cowo bgt dibela2in bali...                   17   \n",
       "\n",
       "   total_word_censored_text  \n",
       "0                         2  \n",
       "1                         9  \n",
       "2                         7  \n",
       "3                        35  \n",
       "4                        17  "
      ]
     },
     "execution_count": 25,
     "metadata": {},
     "output_type": "execute_result"
    }
   ],
   "source": [
    "# tampilkan 5 data teratas\n",
    "df1.head()"
   ]
  },
  {
   "cell_type": "code",
   "execution_count": 35,
   "id": "990af98e",
   "metadata": {},
   "outputs": [],
   "source": [
    "def sum_of_censored(text):\n",
    "    x = re.findall(\"SENSOR\", text)\n",
    "    return len(x)"
   ]
  },
  {
   "cell_type": "code",
   "execution_count": 36,
   "id": "c488ab1a",
   "metadata": {},
   "outputs": [],
   "source": [
    "df1['sum_of_censored_text'] = df1['censored_text'].apply(lambda x: sum_of_censored(x))"
   ]
  },
  {
   "cell_type": "code",
   "execution_count": 37,
   "id": "6c430ea5",
   "metadata": {},
   "outputs": [
    {
     "data": {
      "text/html": [
       "<div>\n",
       "<style scoped>\n",
       "    .dataframe tbody tr th:only-of-type {\n",
       "        vertical-align: middle;\n",
       "    }\n",
       "\n",
       "    .dataframe tbody tr th {\n",
       "        vertical-align: top;\n",
       "    }\n",
       "\n",
       "    .dataframe thead th {\n",
       "        text-align: right;\n",
       "    }\n",
       "</style>\n",
       "<table border=\"1\" class=\"dataframe\">\n",
       "  <thead>\n",
       "    <tr style=\"text-align: right;\">\n",
       "      <th></th>\n",
       "      <th>id</th>\n",
       "      <th>old_text</th>\n",
       "      <th>censored_text</th>\n",
       "      <th>total_word_old_text</th>\n",
       "      <th>total_word_censored_text</th>\n",
       "      <th>sum_of_censored_text</th>\n",
       "    </tr>\n",
       "  </thead>\n",
       "  <tbody>\n",
       "    <tr>\n",
       "      <th>0</th>\n",
       "      <td>2</td>\n",
       "      <td>old text 2</td>\n",
       "      <td>censored_text 2</td>\n",
       "      <td>3</td>\n",
       "      <td>2</td>\n",
       "      <td>0</td>\n",
       "    </tr>\n",
       "    <tr>\n",
       "      <th>1</th>\n",
       "      <td>3</td>\n",
       "      <td>ehh emang tai lu anjing, bego kok di pelihara</td>\n",
       "      <td>ehh emang ***SENSOR*** lu ***SENSOR***, ***SEN...</td>\n",
       "      <td>9</td>\n",
       "      <td>9</td>\n",
       "      <td>3</td>\n",
       "    </tr>\n",
       "    <tr>\n",
       "      <th>2</th>\n",
       "      <td>4</td>\n",
       "      <td>dasar goblok anjing emang ga tau diutung</td>\n",
       "      <td>dasar ***SENSOR*** ***SENSOR*** emang ga tau d...</td>\n",
       "      <td>7</td>\n",
       "      <td>7</td>\n",
       "      <td>2</td>\n",
       "    </tr>\n",
       "    <tr>\n",
       "      <th>3</th>\n",
       "      <td>5</td>\n",
       "      <td>&lt;USERNAME&gt; TOLOL!! Gak ada hubungan nya kegug...</td>\n",
       "      <td>&lt;username&gt; ***SENSOR***!! gak ada hubungan ny...</td>\n",
       "      <td>35</td>\n",
       "      <td>35</td>\n",
       "      <td>1</td>\n",
       "    </tr>\n",
       "    <tr>\n",
       "      <th>4</th>\n",
       "      <td>6</td>\n",
       "      <td>Geblek lo tata...cowo bgt dibela2in balikan. A...</td>\n",
       "      <td>***SENSOR*** lo tata...cowo bgt dibela2in bali...</td>\n",
       "      <td>17</td>\n",
       "      <td>17</td>\n",
       "      <td>3</td>\n",
       "    </tr>\n",
       "  </tbody>\n",
       "</table>\n",
       "</div>"
      ],
      "text/plain": [
       "   id                                           old_text  \\\n",
       "0   2                                         old text 2   \n",
       "1   3      ehh emang tai lu anjing, bego kok di pelihara   \n",
       "2   4           dasar goblok anjing emang ga tau diutung   \n",
       "3   5   <USERNAME> TOLOL!! Gak ada hubungan nya kegug...   \n",
       "4   6  Geblek lo tata...cowo bgt dibela2in balikan. A...   \n",
       "\n",
       "                                       censored_text  total_word_old_text  \\\n",
       "0                                    censored_text 2                    3   \n",
       "1  ehh emang ***SENSOR*** lu ***SENSOR***, ***SEN...                    9   \n",
       "2  dasar ***SENSOR*** ***SENSOR*** emang ga tau d...                    7   \n",
       "3   <username> ***SENSOR***!! gak ada hubungan ny...                   35   \n",
       "4  ***SENSOR*** lo tata...cowo bgt dibela2in bali...                   17   \n",
       "\n",
       "   total_word_censored_text  sum_of_censored_text  \n",
       "0                         2                     0  \n",
       "1                         9                     3  \n",
       "2                         7                     2  \n",
       "3                        35                     1  \n",
       "4                        17                     3  "
      ]
     },
     "execution_count": 37,
     "metadata": {},
     "output_type": "execute_result"
    }
   ],
   "source": [
    "# tampilkan 5 data teratas\n",
    "df1.head()"
   ]
  },
  {
   "cell_type": "code",
   "execution_count": 38,
   "id": "40196a83",
   "metadata": {},
   "outputs": [
    {
     "data": {
      "text/plain": [
       "21.875"
      ]
     },
     "execution_count": 38,
     "metadata": {},
     "output_type": "execute_result"
    }
   ],
   "source": [
    "# cek rata - rata di kolom total_word_old_text\n",
    "df1.total_word_old_text.mean()"
   ]
  },
  {
   "cell_type": "code",
   "execution_count": 39,
   "id": "19ea8448",
   "metadata": {},
   "outputs": [
    {
     "data": {
      "text/plain": [
       "21.75"
      ]
     },
     "execution_count": 39,
     "metadata": {},
     "output_type": "execute_result"
    }
   ],
   "source": [
    "# cek rata - rata di kolom total_word_censored_text\n",
    "df1.total_word_censored_text.mean()"
   ]
  },
  {
   "cell_type": "code",
   "execution_count": 40,
   "id": "f965994f",
   "metadata": {},
   "outputs": [
    {
     "data": {
      "text/plain": [
       "1.375"
      ]
     },
     "execution_count": 40,
     "metadata": {},
     "output_type": "execute_result"
    }
   ],
   "source": [
    "# cek rata - rata di kolom sum_of_censored_text\n",
    "df1.sum_of_censored_text.mean()"
   ]
  },
  {
   "cell_type": "code",
   "execution_count": 41,
   "id": "d1198cca",
   "metadata": {},
   "outputs": [
    {
     "data": {
      "text/plain": [
       "18.5"
      ]
     },
     "execution_count": 41,
     "metadata": {},
     "output_type": "execute_result"
    }
   ],
   "source": [
    "# mencari nilai tengah kolom total_word_old_text\n",
    "df1.total_word_old_text.median()"
   ]
  },
  {
   "cell_type": "code",
   "execution_count": 42,
   "id": "b219f789",
   "metadata": {},
   "outputs": [
    {
     "data": {
      "text/plain": [
       "18.5"
      ]
     },
     "execution_count": 42,
     "metadata": {},
     "output_type": "execute_result"
    }
   ],
   "source": [
    "# mencari nilai tengah kolom total_word_censored_text\n",
    "df1.total_word_censored_text.median()"
   ]
  },
  {
   "cell_type": "code",
   "execution_count": 43,
   "id": "c7620c16",
   "metadata": {},
   "outputs": [
    {
     "data": {
      "text/plain": [
       "1.5"
      ]
     },
     "execution_count": 43,
     "metadata": {},
     "output_type": "execute_result"
    }
   ],
   "source": [
    "# mencari nilai tengah kolom sum_of_censored_text\n",
    "df1.sum_of_censored_text.median()"
   ]
  },
  {
   "cell_type": "code",
   "execution_count": 44,
   "id": "29dfca3d",
   "metadata": {},
   "outputs": [
    {
     "data": {
      "text/plain": [
       "0     3\n",
       "1     7\n",
       "2     9\n",
       "3    17\n",
       "4    20\n",
       "5    25\n",
       "6    35\n",
       "7    59\n",
       "Name: total_word_old_text, dtype: int64"
      ]
     },
     "execution_count": 44,
     "metadata": {},
     "output_type": "execute_result"
    }
   ],
   "source": [
    "# mencari frequensi jumlah karakter yang sering muncul\n",
    "df1['total_word_old_text'].mode()"
   ]
  },
  {
   "cell_type": "code",
   "execution_count": 45,
   "id": "6e4bc4c3",
   "metadata": {},
   "outputs": [
    {
     "data": {
      "text/plain": [
       "0     2\n",
       "1     7\n",
       "2     9\n",
       "3    17\n",
       "4    20\n",
       "5    25\n",
       "6    35\n",
       "7    59\n",
       "Name: total_word_censored_text, dtype: int64"
      ]
     },
     "execution_count": 45,
     "metadata": {},
     "output_type": "execute_result"
    }
   ],
   "source": [
    "# mencari frequensi jumlah karakter yang sering muncul\n",
    "df1['total_word_censored_text'].mode()"
   ]
  },
  {
   "cell_type": "code",
   "execution_count": 46,
   "id": "856d69ad",
   "metadata": {},
   "outputs": [
    {
     "data": {
      "text/plain": [
       "0    0\n",
       "Name: sum_of_censored_text, dtype: int64"
      ]
     },
     "execution_count": 46,
     "metadata": {},
     "output_type": "execute_result"
    }
   ],
   "source": [
    "# mencari frequensi jumlah karakter yang sering muncul\n",
    "df1['sum_of_censored_text'].mode()"
   ]
  },
  {
   "cell_type": "code",
   "execution_count": 47,
   "id": "0fca98c1",
   "metadata": {},
   "outputs": [],
   "source": [
    "df1_desc = df1.describe()"
   ]
  },
  {
   "cell_type": "code",
   "execution_count": 48,
   "id": "35425689",
   "metadata": {},
   "outputs": [
    {
     "data": {
      "text/html": [
       "<div>\n",
       "<style scoped>\n",
       "    .dataframe tbody tr th:only-of-type {\n",
       "        vertical-align: middle;\n",
       "    }\n",
       "\n",
       "    .dataframe tbody tr th {\n",
       "        vertical-align: top;\n",
       "    }\n",
       "\n",
       "    .dataframe thead th {\n",
       "        text-align: right;\n",
       "    }\n",
       "</style>\n",
       "<table border=\"1\" class=\"dataframe\">\n",
       "  <thead>\n",
       "    <tr style=\"text-align: right;\">\n",
       "      <th></th>\n",
       "      <th>id</th>\n",
       "      <th>total_word_old_text</th>\n",
       "      <th>total_word_censored_text</th>\n",
       "      <th>sum_of_censored_text</th>\n",
       "    </tr>\n",
       "  </thead>\n",
       "  <tbody>\n",
       "    <tr>\n",
       "      <th>count</th>\n",
       "      <td>8.00000</td>\n",
       "      <td>8.000000</td>\n",
       "      <td>8.000000</td>\n",
       "      <td>8.00000</td>\n",
       "    </tr>\n",
       "    <tr>\n",
       "      <th>mean</th>\n",
       "      <td>5.50000</td>\n",
       "      <td>21.875000</td>\n",
       "      <td>21.750000</td>\n",
       "      <td>1.37500</td>\n",
       "    </tr>\n",
       "    <tr>\n",
       "      <th>std</th>\n",
       "      <td>2.44949</td>\n",
       "      <td>18.247798</td>\n",
       "      <td>18.398369</td>\n",
       "      <td>1.30247</td>\n",
       "    </tr>\n",
       "    <tr>\n",
       "      <th>min</th>\n",
       "      <td>2.00000</td>\n",
       "      <td>3.000000</td>\n",
       "      <td>2.000000</td>\n",
       "      <td>0.00000</td>\n",
       "    </tr>\n",
       "    <tr>\n",
       "      <th>25%</th>\n",
       "      <td>3.75000</td>\n",
       "      <td>8.500000</td>\n",
       "      <td>8.500000</td>\n",
       "      <td>0.00000</td>\n",
       "    </tr>\n",
       "    <tr>\n",
       "      <th>50%</th>\n",
       "      <td>5.50000</td>\n",
       "      <td>18.500000</td>\n",
       "      <td>18.500000</td>\n",
       "      <td>1.50000</td>\n",
       "    </tr>\n",
       "    <tr>\n",
       "      <th>75%</th>\n",
       "      <td>7.25000</td>\n",
       "      <td>27.500000</td>\n",
       "      <td>27.500000</td>\n",
       "      <td>2.25000</td>\n",
       "    </tr>\n",
       "    <tr>\n",
       "      <th>max</th>\n",
       "      <td>9.00000</td>\n",
       "      <td>59.000000</td>\n",
       "      <td>59.000000</td>\n",
       "      <td>3.00000</td>\n",
       "    </tr>\n",
       "  </tbody>\n",
       "</table>\n",
       "</div>"
      ],
      "text/plain": [
       "            id  total_word_old_text  total_word_censored_text  \\\n",
       "count  8.00000             8.000000                  8.000000   \n",
       "mean   5.50000            21.875000                 21.750000   \n",
       "std    2.44949            18.247798                 18.398369   \n",
       "min    2.00000             3.000000                  2.000000   \n",
       "25%    3.75000             8.500000                  8.500000   \n",
       "50%    5.50000            18.500000                 18.500000   \n",
       "75%    7.25000            27.500000                 27.500000   \n",
       "max    9.00000            59.000000                 59.000000   \n",
       "\n",
       "       sum_of_censored_text  \n",
       "count               8.00000  \n",
       "mean                1.37500  \n",
       "std                 1.30247  \n",
       "min                 0.00000  \n",
       "25%                 0.00000  \n",
       "50%                 1.50000  \n",
       "75%                 2.25000  \n",
       "max                 3.00000  "
      ]
     },
     "execution_count": 48,
     "metadata": {},
     "output_type": "execute_result"
    }
   ],
   "source": [
    "df1_desc"
   ]
  },
  {
   "cell_type": "code",
   "execution_count": 49,
   "id": "8617ef87",
   "metadata": {},
   "outputs": [],
   "source": [
    "def df1_desc_func(a,b):\n",
    "    c  = df1_desc[a].filter(items = [b], axis=0)[0]\n",
    "    return c"
   ]
  },
  {
   "cell_type": "code",
   "execution_count": 55,
   "id": "c831b7bd",
   "metadata": {},
   "outputs": [
    {
     "data": {
      "text/plain": [
       "56.0"
      ]
     },
     "execution_count": 55,
     "metadata": {},
     "output_type": "execute_result"
    }
   ],
   "source": [
    "# mencari range total_word_old_text\n",
    "range_total_word_old_text = df1_desc_func('total_word_old_text','max') - df1_desc_func('total_word_old_text','min')\n",
    "\n",
    "range_total_word_old_text"
   ]
  },
  {
   "cell_type": "code",
   "execution_count": 56,
   "id": "57b083b6",
   "metadata": {},
   "outputs": [
    {
     "data": {
      "text/plain": [
       "57.0"
      ]
     },
     "execution_count": 56,
     "metadata": {},
     "output_type": "execute_result"
    }
   ],
   "source": [
    "# mencari range total_word_censored_text\n",
    "range_total_word_censored_text = df1_desc_func('total_word_censored_text','max') - df1_desc_func('total_word_censored_text','min')\n",
    "\n",
    "range_total_word_censored_text"
   ]
  },
  {
   "cell_type": "code",
   "execution_count": 57,
   "id": "d3803b17",
   "metadata": {},
   "outputs": [
    {
     "data": {
      "text/plain": [
       "3.0"
      ]
     },
     "execution_count": 57,
     "metadata": {},
     "output_type": "execute_result"
    }
   ],
   "source": [
    "# mencari range sum_of_censored_text\n",
    "range_sum_of_censored_text = df1_desc_func('sum_of_censored_text','max') - df1_desc_func('sum_of_censored_text','min')\n",
    "\n",
    "range_sum_of_censored_text"
   ]
  },
  {
   "cell_type": "code",
   "execution_count": 59,
   "id": "781c1f69",
   "metadata": {},
   "outputs": [
    {
     "data": {
      "text/plain": [
       "<Axes: >"
      ]
     },
     "execution_count": 59,
     "metadata": {},
     "output_type": "execute_result"
    },
    {
     "data": {
      "image/png": "[encoded data removed]",
      "text/plain": [
       "<Figure size 640x480 with 1 Axes>"
      ]
     },
     "metadata": {},
     "output_type": "display_data"
    }
   ],
   "source": [
    "# histogram total_word_old_text\n",
    "df1.total_word_old_text.hist()"
   ]
  },
  {
   "cell_type": "code",
   "execution_count": 60,
   "id": "3f0c5215",
   "metadata": {},
   "outputs": [
    {
     "data": {
      "text/plain": [
       "<Axes: >"
      ]
     },
     "execution_count": 60,
     "metadata": {},
     "output_type": "execute_result"
    },
    {
     "data": {
      "image/png": "[encoded data removed]",
      "text/plain": [
       "<Figure size 640x480 with 1 Axes>"
      ]
     },
     "metadata": {},
     "output_type": "display_data"
    }
   ],
   "source": [
    "# histogram total_word_censored_text\n",
    "df1.total_word_censored_text.hist()"
   ]
  },
  {
   "cell_type": "code",
   "execution_count": 61,
   "id": "302f88f0",
   "metadata": {},
   "outputs": [
    {
     "data": {
      "text/plain": [
       "<Axes: >"
      ]
     },
     "execution_count": 61,
     "metadata": {},
     "output_type": "execute_result"
    },
    {
     "data": {
      "image/png": "[encoded data removed]",
      "text/plain": [
       "<Figure size 640x480 with 1 Axes>"
      ]
     },
     "metadata": {},
     "output_type": "display_data"
    }
   ],
   "source": [
    "# histogram total_word_censored_text\n",
    "df1.sum_of_censored_text.hist()"
   ]
  }
 ],
 "metadata": {
  "kernelspec": {
   "display_name": "envbinar",
   "language": "python",
   "name": "envbinar"
  },
  "language_info": {
   "codemirror_mode": {
    "name": "ipython",
    "version": 3
   },
   "file_extension": ".py",
   "mimetype": "text/x-python",
   "name": "python",
   "nbconvert_exporter": "python",
   "pygments_lexer": "ipython3",
   "version": "3.11.1"
  }
 },
 "nbformat": 4,
 "nbformat_minor": 5
}
