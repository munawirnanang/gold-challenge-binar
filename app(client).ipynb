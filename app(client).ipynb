{
 "cells": [
  {
   "cell_type": "code",
   "execution_count": 17,
   "id": "0b3d328a",
   "metadata": {},
   "outputs": [],
   "source": [
    "import requests"
   ]
  },
  {
   "cell_type": "markdown",
   "id": "81f38a3c",
   "metadata": {},
   "source": [
    "# GET"
   ]
  },
  {
   "cell_type": "code",
   "execution_count": 18,
   "id": "66d7edec",
   "metadata": {},
   "outputs": [],
   "source": [
    "r = requests.get(url = 'http://127.0.0.1:5000/')"
   ]
  },
  {
   "cell_type": "code",
   "execution_count": 19,
   "id": "bd12a1ae",
   "metadata": {},
   "outputs": [
    {
     "name": "stdout",
     "output_type": "stream",
     "text": [
      "{\"censored_text\":{\"0\":\"censored_text 3\",\"1\":\"ehh emang ***SENSOR*** lu ***SENSOR***, ***SENSOR*** kok di pelihara\",\"2\":\"dasar ***SENSOR*** ***SENSOR*** emang ga tau diutung\",\"3\":\" <username> ***SENSOR***!! gak ada hubungan nya keguguran dgn pake hijab syar'i yg lo bilang bayi nya kepanasan didalem gak ada hubungan nya woyyyy!! otak sama jempol lo gak singkron sih ya jadinya asal nulis komentar!\",\"4\":\"***SENSOR*** lo tata...cowo bgt dibela2in balikan. ***SENSOR*** dasar ***SENSOR***..hadeww...ntar ditinggal lg nyalahin tuh cowo...padahal kitenya yg oon.\",\"5\":\"kmrn termewek2 skr lengket lg duhhh kok labil bgt sih mbak kya abege ajah ato yg kmrn cari sensasi biar top markotoppp ertong gk berkualitas\",\"6\":\"intinya kalau kesel dengan att nya, gausah ke anaknya juga. kasian buat perkembangan psikis anak kedepannya. itu orang bener bener ***SENSOR***, skrg seandainya dia punya anak, terus anaknya dika***SENSOR***n sama orang yang benci sama dia, gimana perasaan dia ? benci sama seseorang boleh, tapi harus tau batesnya ?? toh namanya manusia, gaakan semua jadi penyuka, pasti ada haters ??\",\"7\":\"hadewwwww permpuan itu lg!!!!sakit jiwa,knp harus dia yg jd peran utama di film hantu jeruk purut,ky khabisan stok artis ja\",\"8\":\"dasar ***SENSOR*** ***SENSOR*** emang ga tau diutung\"},\"id\":{\"0\":2,\"1\":3,\"2\":4,\"3\":5,\"4\":6,\"5\":7,\"6\":8,\"7\":9,\"8\":10},\"old_text\":{\"0\":\"old text 3\",\"1\":\"ehh emang tai lu anjing, bego kok di pelihara\",\"2\":\"dasar goblok anjing emang ga tau diutung\",\"3\":\" <USERNAME> TOLOL!! Gak ada hubungan nya keguguran dgn pake hijab syar'i yg lo bilang bayi nya kepanasan didalem gak ada hubungan nya woyyyy!! Otak sama jempol lo gak singkron sih ya jadinya asal nulis komentar!\",\"4\":\"Geblek lo tata...cowo bgt dibela2in balikan. Anjing dasar goblok..hadeww...ntar ditinggal lg nyalahin tuh cowo...padahal kitenya yg oon.\",\"5\":\"Kmrn termewek2 skr lengket lg duhhh kok labil bgt sih mbak kya abege ajah ato yg kmrn cari sensasi biar top markotoppp ertong gk berkualitas\",\"6\":\"Intinya kalau kesel dengan ATT nya, gausah ke anaknya juga. Kasian buat perkembangan psikis anak kedepannya. Itu orang bener bener tolol, skrg seandainya dia punya anak, terus anaknya dikatain sama orang yang benci sama dia, gimana perasaan dia ? Benci sama seseorang boleh, tapi harus tau batesnya ?? toh namanya manusia, gaakan semua jadi penyuka, pasti ada haters ??\",\"7\":\"hadewwwww permpuan itu lg!!!!sakit jiwa,knp harus dia yg jd peran utama di film hantu jeruk purut,ky khabisan stok Artis ja\",\"8\":\"dasar goblok anjing emang ga tau diutung\"}}\n",
      "\n"
     ]
    }
   ],
   "source": [
    "print(r.text)"
   ]
  },
  {
   "cell_type": "markdown",
   "id": "18493da8",
   "metadata": {},
   "source": [
    "# POST"
   ]
  },
  {
   "cell_type": "code",
   "execution_count": 6,
   "id": "9cb6721f",
   "metadata": {},
   "outputs": [
    {
     "name": "stdout",
     "output_type": "stream",
     "text": [
      "{\"tweet\": \"dasar goblok anjing emang ga tau diutung\"}\n"
     ]
    }
   ],
   "source": [
    "import json \n",
    "      \n",
    "data = {\"tweet\": \"dasar goblok anjing emang ga tau diutung\"}\n",
    "\n",
    "json_object = json.dumps(data) \n",
    "print(json_object)"
   ]
  },
  {
   "cell_type": "code",
   "execution_count": 7,
   "id": "a37b51c8",
   "metadata": {},
   "outputs": [],
   "source": [
    "r = requests.post(url = 'http://127.0.0.1:5000/input', data = json_object)"
   ]
  },
  {
   "cell_type": "code",
   "execution_count": 8,
   "id": "c4356424",
   "metadata": {},
   "outputs": [
    {
     "name": "stdout",
     "output_type": "stream",
     "text": [
      "SUKSES INPUT\n"
     ]
    }
   ],
   "source": [
    "print(r.text)"
   ]
  },
  {
   "cell_type": "markdown",
   "id": "1641c610",
   "metadata": {},
   "source": [
    "# PUT"
   ]
  },
  {
   "cell_type": "code",
   "execution_count": 9,
   "id": "8d494b3a",
   "metadata": {},
   "outputs": [
    {
     "name": "stdout",
     "output_type": "stream",
     "text": [
      "{\"tweet\": \"ehh emang tai lu anjing, bego kok di pelihara\"}\n"
     ]
    }
   ],
   "source": [
    "import json \n",
    "      \n",
    "data = {\"tweet\": \"ehh emang tai lu anjing, bego kok di pelihara\"}\n",
    "\n",
    "json_object = json.dumps(data) \n",
    "print(json_object)"
   ]
  },
  {
   "cell_type": "code",
   "execution_count": 12,
   "id": "e57b514f",
   "metadata": {},
   "outputs": [],
   "source": [
    "r = requests.put(url = 'http://127.0.0.1:5000/update/3', data = json_object)"
   ]
  },
  {
   "cell_type": "code",
   "execution_count": 13,
   "id": "9cc86d62",
   "metadata": {},
   "outputs": [
    {
     "name": "stdout",
     "output_type": "stream",
     "text": [
      "SUKSES UPDATE\n"
     ]
    }
   ],
   "source": [
    "print(r.text)"
   ]
  },
  {
   "cell_type": "markdown",
   "id": "8dc20daf",
   "metadata": {},
   "source": [
    "# DELETE"
   ]
  },
  {
   "cell_type": "code",
   "execution_count": null,
   "id": "86189596",
   "metadata": {},
   "outputs": [],
   "source": [
    "r = requests.delete(url = 'http://127.0.0.1:5000/delete/6')"
   ]
  },
  {
   "cell_type": "code",
   "execution_count": null,
   "id": "0ecd9131",
   "metadata": {},
   "outputs": [],
   "source": [
    "print(r.text)"
   ]
  }
 ],
 "metadata": {
  "kernelspec": {
   "display_name": "envbinar",
   "language": "python",
   "name": "envbinar"
  },
  "language_info": {
   "codemirror_mode": {
    "name": "ipython",
    "version": 3
   },
   "file_extension": ".py",
   "mimetype": "text/x-python",
   "name": "python",
   "nbconvert_exporter": "python",
   "pygments_lexer": "ipython3",
   "version": "3.11.1"
  }
 },
 "nbformat": 4,
 "nbformat_minor": 5
}
